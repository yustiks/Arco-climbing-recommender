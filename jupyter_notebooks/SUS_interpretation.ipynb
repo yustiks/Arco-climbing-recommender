{
  "nbformat": 4,
  "nbformat_minor": 0,
  "metadata": {
    "colab": {
      "name": "Untitled19.ipynb",
      "provenance": [],
      "collapsed_sections": []
    },
    "kernelspec": {
      "name": "python3",
      "display_name": "Python 3"
    },
    "language_info": {
      "name": "python"
    }
  },
  "cells": [
    {
      "cell_type": "code",
      "source": [
        "import numpy as np; np.random.seed(42)\n",
        "import pandas as pd\n",
        "import matplotlib.pyplot as plt\n",
        "import seaborn as sns"
      ],
      "metadata": {
        "id": "xFJ4JRFtSlXx"
      },
      "execution_count": 34,
      "outputs": []
    },
    {
      "cell_type": "code",
      "execution_count": 18,
      "metadata": {
        "colab": {
          "base_uri": "https://localhost:8080/",
          "height": 285
        },
        "id": "4VM47KQNDzcm",
        "outputId": "8f63bcaa-611b-400c-baed-6c225245b0f0"
      },
      "outputs": [
        {
          "output_type": "execute_result",
          "data": {
            "text/html": [
              "\n",
              "  <div id=\"df-42ab0ebc-c68c-41b9-b6bd-9006d458482a\">\n",
              "    <div class=\"colab-df-container\">\n",
              "      <div>\n",
              "<style scoped>\n",
              "    .dataframe tbody tr th:only-of-type {\n",
              "        vertical-align: middle;\n",
              "    }\n",
              "\n",
              "    .dataframe tbody tr th {\n",
              "        vertical-align: top;\n",
              "    }\n",
              "\n",
              "    .dataframe thead th {\n",
              "        text-align: right;\n",
              "    }\n",
              "</style>\n",
              "<table border=\"1\" class=\"dataframe\">\n",
              "  <thead>\n",
              "    <tr style=\"text-align: right;\">\n",
              "      <th></th>\n",
              "      <th>Unnamed: 0</th>\n",
              "      <th>Q1</th>\n",
              "      <th>Q2</th>\n",
              "      <th>Q3</th>\n",
              "      <th>Q4</th>\n",
              "      <th>Q5</th>\n",
              "      <th>Q6</th>\n",
              "      <th>Q7</th>\n",
              "      <th>Q8</th>\n",
              "      <th>Q9</th>\n",
              "      <th>Q10</th>\n",
              "      <th>Q_new.1</th>\n",
              "      <th>Q_new.2</th>\n",
              "      <th>Q_new.3</th>\n",
              "      <th>Q_new.4</th>\n",
              "      <th>Q_new.5</th>\n",
              "      <th>Q_new.6</th>\n",
              "      <th>Q_new.7</th>\n",
              "      <th>Q_new.8</th>\n",
              "      <th>Q_new.9</th>\n",
              "      <th>Q_new.10</th>\n",
              "      <th>SUS</th>\n",
              "      <th>Unnamed: 22</th>\n",
              "      <th>Unnamed: 23</th>\n",
              "    </tr>\n",
              "  </thead>\n",
              "  <tbody>\n",
              "    <tr>\n",
              "      <th>30</th>\n",
              "      <td>user 31</td>\n",
              "      <td>4</td>\n",
              "      <td>2</td>\n",
              "      <td>3</td>\n",
              "      <td>2</td>\n",
              "      <td>3</td>\n",
              "      <td>4</td>\n",
              "      <td>3</td>\n",
              "      <td>3</td>\n",
              "      <td>3</td>\n",
              "      <td>4</td>\n",
              "      <td>3</td>\n",
              "      <td>3</td>\n",
              "      <td>2</td>\n",
              "      <td>3</td>\n",
              "      <td>2</td>\n",
              "      <td>1</td>\n",
              "      <td>2</td>\n",
              "      <td>2</td>\n",
              "      <td>2</td>\n",
              "      <td>1</td>\n",
              "      <td>52.5</td>\n",
              "      <td>user 31</td>\n",
              "      <td>68</td>\n",
              "    </tr>\n",
              "    <tr>\n",
              "      <th>31</th>\n",
              "      <td>user 32</td>\n",
              "      <td>3</td>\n",
              "      <td>3</td>\n",
              "      <td>2</td>\n",
              "      <td>1</td>\n",
              "      <td>2</td>\n",
              "      <td>3</td>\n",
              "      <td>4</td>\n",
              "      <td>3</td>\n",
              "      <td>3</td>\n",
              "      <td>4</td>\n",
              "      <td>2</td>\n",
              "      <td>2</td>\n",
              "      <td>1</td>\n",
              "      <td>4</td>\n",
              "      <td>1</td>\n",
              "      <td>2</td>\n",
              "      <td>3</td>\n",
              "      <td>2</td>\n",
              "      <td>2</td>\n",
              "      <td>1</td>\n",
              "      <td>50.0</td>\n",
              "      <td>user 32</td>\n",
              "      <td>68</td>\n",
              "    </tr>\n",
              "    <tr>\n",
              "      <th>32</th>\n",
              "      <td>user 33</td>\n",
              "      <td>3</td>\n",
              "      <td>3</td>\n",
              "      <td>3</td>\n",
              "      <td>1</td>\n",
              "      <td>5</td>\n",
              "      <td>1</td>\n",
              "      <td>5</td>\n",
              "      <td>1</td>\n",
              "      <td>3</td>\n",
              "      <td>1</td>\n",
              "      <td>2</td>\n",
              "      <td>2</td>\n",
              "      <td>2</td>\n",
              "      <td>4</td>\n",
              "      <td>4</td>\n",
              "      <td>4</td>\n",
              "      <td>4</td>\n",
              "      <td>4</td>\n",
              "      <td>2</td>\n",
              "      <td>4</td>\n",
              "      <td>80.0</td>\n",
              "      <td>user 33</td>\n",
              "      <td>68</td>\n",
              "    </tr>\n",
              "    <tr>\n",
              "      <th>33</th>\n",
              "      <td>user 34</td>\n",
              "      <td>4</td>\n",
              "      <td>4</td>\n",
              "      <td>4</td>\n",
              "      <td>3</td>\n",
              "      <td>4</td>\n",
              "      <td>4</td>\n",
              "      <td>4</td>\n",
              "      <td>4</td>\n",
              "      <td>4</td>\n",
              "      <td>2</td>\n",
              "      <td>3</td>\n",
              "      <td>1</td>\n",
              "      <td>3</td>\n",
              "      <td>2</td>\n",
              "      <td>3</td>\n",
              "      <td>1</td>\n",
              "      <td>3</td>\n",
              "      <td>1</td>\n",
              "      <td>3</td>\n",
              "      <td>3</td>\n",
              "      <td>57.5</td>\n",
              "      <td>user 34</td>\n",
              "      <td>68</td>\n",
              "    </tr>\n",
              "    <tr>\n",
              "      <th>34</th>\n",
              "      <td>user 35</td>\n",
              "      <td>4</td>\n",
              "      <td>1</td>\n",
              "      <td>5</td>\n",
              "      <td>1</td>\n",
              "      <td>4</td>\n",
              "      <td>2</td>\n",
              "      <td>4</td>\n",
              "      <td>2</td>\n",
              "      <td>4</td>\n",
              "      <td>1</td>\n",
              "      <td>3</td>\n",
              "      <td>4</td>\n",
              "      <td>4</td>\n",
              "      <td>4</td>\n",
              "      <td>3</td>\n",
              "      <td>3</td>\n",
              "      <td>3</td>\n",
              "      <td>3</td>\n",
              "      <td>3</td>\n",
              "      <td>4</td>\n",
              "      <td>85.0</td>\n",
              "      <td>user 35</td>\n",
              "      <td>68</td>\n",
              "    </tr>\n",
              "  </tbody>\n",
              "</table>\n",
              "</div>\n",
              "      <button class=\"colab-df-convert\" onclick=\"convertToInteractive('df-42ab0ebc-c68c-41b9-b6bd-9006d458482a')\"\n",
              "              title=\"Convert this dataframe to an interactive table.\"\n",
              "              style=\"display:none;\">\n",
              "        \n",
              "  <svg xmlns=\"http://www.w3.org/2000/svg\" height=\"24px\"viewBox=\"0 0 24 24\"\n",
              "       width=\"24px\">\n",
              "    <path d=\"M0 0h24v24H0V0z\" fill=\"none\"/>\n",
              "    <path d=\"M18.56 5.44l.94 2.06.94-2.06 2.06-.94-2.06-.94-.94-2.06-.94 2.06-2.06.94zm-11 1L8.5 8.5l.94-2.06 2.06-.94-2.06-.94L8.5 2.5l-.94 2.06-2.06.94zm10 10l.94 2.06.94-2.06 2.06-.94-2.06-.94-.94-2.06-.94 2.06-2.06.94z\"/><path d=\"M17.41 7.96l-1.37-1.37c-.4-.4-.92-.59-1.43-.59-.52 0-1.04.2-1.43.59L10.3 9.45l-7.72 7.72c-.78.78-.78 2.05 0 2.83L4 21.41c.39.39.9.59 1.41.59.51 0 1.02-.2 1.41-.59l7.78-7.78 2.81-2.81c.8-.78.8-2.07 0-2.86zM5.41 20L4 18.59l7.72-7.72 1.47 1.35L5.41 20z\"/>\n",
              "  </svg>\n",
              "      </button>\n",
              "      \n",
              "  <style>\n",
              "    .colab-df-container {\n",
              "      display:flex;\n",
              "      flex-wrap:wrap;\n",
              "      gap: 12px;\n",
              "    }\n",
              "\n",
              "    .colab-df-convert {\n",
              "      background-color: #E8F0FE;\n",
              "      border: none;\n",
              "      border-radius: 50%;\n",
              "      cursor: pointer;\n",
              "      display: none;\n",
              "      fill: #1967D2;\n",
              "      height: 32px;\n",
              "      padding: 0 0 0 0;\n",
              "      width: 32px;\n",
              "    }\n",
              "\n",
              "    .colab-df-convert:hover {\n",
              "      background-color: #E2EBFA;\n",
              "      box-shadow: 0px 1px 2px rgba(60, 64, 67, 0.3), 0px 1px 3px 1px rgba(60, 64, 67, 0.15);\n",
              "      fill: #174EA6;\n",
              "    }\n",
              "\n",
              "    [theme=dark] .colab-df-convert {\n",
              "      background-color: #3B4455;\n",
              "      fill: #D2E3FC;\n",
              "    }\n",
              "\n",
              "    [theme=dark] .colab-df-convert:hover {\n",
              "      background-color: #434B5C;\n",
              "      box-shadow: 0px 1px 3px 1px rgba(0, 0, 0, 0.15);\n",
              "      filter: drop-shadow(0px 1px 2px rgba(0, 0, 0, 0.3));\n",
              "      fill: #FFFFFF;\n",
              "    }\n",
              "  </style>\n",
              "\n",
              "      <script>\n",
              "        const buttonEl =\n",
              "          document.querySelector('#df-42ab0ebc-c68c-41b9-b6bd-9006d458482a button.colab-df-convert');\n",
              "        buttonEl.style.display =\n",
              "          google.colab.kernel.accessAllowed ? 'block' : 'none';\n",
              "\n",
              "        async function convertToInteractive(key) {\n",
              "          const element = document.querySelector('#df-42ab0ebc-c68c-41b9-b6bd-9006d458482a');\n",
              "          const dataTable =\n",
              "            await google.colab.kernel.invokeFunction('convertToInteractive',\n",
              "                                                     [key], {});\n",
              "          if (!dataTable) return;\n",
              "\n",
              "          const docLinkHtml = 'Like what you see? Visit the ' +\n",
              "            '<a target=\"_blank\" href=https://colab.research.google.com/notebooks/data_table.ipynb>data table notebook</a>'\n",
              "            + ' to learn more about interactive tables.';\n",
              "          element.innerHTML = '';\n",
              "          dataTable['output_type'] = 'display_data';\n",
              "          await google.colab.output.renderOutput(dataTable, element);\n",
              "          const docLink = document.createElement('div');\n",
              "          docLink.innerHTML = docLinkHtml;\n",
              "          element.appendChild(docLink);\n",
              "        }\n",
              "      </script>\n",
              "    </div>\n",
              "  </div>\n",
              "  "
            ],
            "text/plain": [
              "   Unnamed: 0  Q1  Q2  Q3  Q4  ...  Q_new.9  Q_new.10   SUS  Unnamed: 22  Unnamed: 23\n",
              "30    user 31   4   2   3   2  ...        2         1  52.5      user 31           68\n",
              "31    user 32   3   3   2   1  ...        2         1  50.0      user 32           68\n",
              "32    user 33   3   3   3   1  ...        2         4  80.0      user 33           68\n",
              "33    user 34   4   4   4   3  ...        3         3  57.5      user 34           68\n",
              "34    user 35   4   1   5   1  ...        3         4  85.0      user 35           68\n",
              "\n",
              "[5 rows x 24 columns]"
            ]
          },
          "metadata": {},
          "execution_count": 18
        }
      ],
      "source": [
        "import pandas as pd\n",
        "\n",
        "df = pd.read_csv('Sheet1.csv')\n",
        "df.tail()"
      ]
    },
    {
      "cell_type": "code",
      "source": [
        "df.columns"
      ],
      "metadata": {
        "colab": {
          "base_uri": "https://localhost:8080/"
        },
        "id": "uAKeqg9pETPk",
        "outputId": "ea0a674b-deb4-4d9b-e00d-23fadeb51a39"
      },
      "execution_count": 19,
      "outputs": [
        {
          "output_type": "execute_result",
          "data": {
            "text/plain": [
              "Index(['Unnamed: 0', 'Q1', 'Q2', 'Q3', 'Q4', 'Q5', 'Q6', 'Q7', 'Q8', 'Q9',\n",
              "       'Q10', 'Q_new.1', 'Q_new.2', 'Q_new.3', 'Q_new.4', 'Q_new.5', 'Q_new.6',\n",
              "       'Q_new.7', 'Q_new.8', 'Q_new.9', 'Q_new.10', 'SUS', 'Unnamed: 22',\n",
              "       'Unnamed: 23'],\n",
              "      dtype='object')"
            ]
          },
          "metadata": {},
          "execution_count": 19
        }
      ]
    },
    {
      "cell_type": "code",
      "source": [
        "df['user'] = df['Unnamed: 0']"
      ],
      "metadata": {
        "id": "Y_g4b7wbEWsX"
      },
      "execution_count": 20,
      "outputs": []
    },
    {
      "cell_type": "code",
      "source": [
        "import matplotlib.pyplot as plt\n",
        "fig = plt.figure()\n",
        "ax = fig.add_axes([0,0,1,1])\n",
        "ax.bar(df['user'], df['SUS'], alpha=0.5, label='SUS')\n",
        "ax.scatter(df['user'],df['Unnamed: 23'], label='benchmark')\n",
        "plt.xticks(rotation=90)\n",
        "ax.legend()\n",
        "plt.savefig('img_plot.png')\n",
        "plt.show()"
      ],
      "metadata": {
        "colab": {
          "base_uri": "https://localhost:8080/",
          "height": 364
        },
        "id": "FoQ5QNkNEF95",
        "outputId": "142e5f88-37f8-457c-cf9d-e1143d7d9f29"
      },
      "execution_count": 21,
      "outputs": [
        {
          "output_type": "display_data",
          "data": {
            "image/png": "[encoded data removed]",
            "text/plain": [
              "<Figure size 432x288 with 1 Axes>"
            ]
          },
          "metadata": {
            "needs_background": "light"
          }
        }
      ]
    },
    {
      "cell_type": "code",
      "source": [
        "plt.savefig('img_plot.png')"
      ],
      "metadata": {
        "colab": {
          "base_uri": "https://localhost:8080/",
          "height": 34
        },
        "id": "O2Dl8B3XGpm-",
        "outputId": "97f65690-97b0-40a2-e6bb-59879edd9d72"
      },
      "execution_count": 22,
      "outputs": [
        {
          "output_type": "display_data",
          "data": {
            "text/plain": [
              "<Figure size 432x288 with 0 Axes>"
            ]
          },
          "metadata": {}
        }
      ]
    },
    {
      "cell_type": "code",
      "source": [
        "sns.set(rc={'figure.figsize':(11.7,8.27)})\n",
        "g = sns.boxplot(x=\"variable\", y=\"value\", data=pd.melt(df[['Q_new.1', 'Q_new.2', 'Q_new.3', 'Q_new.4', 'Q_new.5', 'Q_new.6',\n",
        "       'Q_new.7', 'Q_new.8', 'Q_new.9', 'Q_new.10']]))\n",
        "g.set_xticklabels(['Q1', 'Q2', 'Q3', 'Q4', 'Q5', 'Q6', 'Q7', 'Q8', 'Q9',\n",
        "       'Q10'])\n",
        "g.set_xlabel(\"Statements\", fontsize = 20)\n",
        "g.set_ylabel(\"Score\", fontsize = 20)\n",
        "plt.savefig('Box-and-Whisker.png')\n",
        "plt.show()\n"
      ],
      "metadata": {
        "colab": {
          "base_uri": "https://localhost:8080/",
          "height": 523
        },
        "id": "st01YbjXQEQc",
        "outputId": "12855b41-dfac-4086-e00a-3290a49913d9"
      },
      "execution_count": 33,
      "outputs": [
        {
          "output_type": "display_data",
          "data": {
            "image/png": "[encoded data removed]",
            "text/plain": [
              "<Figure size 842.4x595.44 with 1 Axes>"
            ]
          },
          "metadata": {}
        }
      ]
    },
    {
      "cell_type": "code",
      "source": [
        "from scipy import stats\n",
        "rng = np.random.default_rng()\n",
        "\n",
        "rvs1 = stats.norm.rvs(loc=5, scale=10, size=500, random_state=rng)\n",
        "rvs2 = stats.norm.rvs(loc=5, scale=10, size=1, random_state=rng)\n"
      ],
      "metadata": {
        "id": "VTeXQoMjJM6J"
      },
      "execution_count": 35,
      "outputs": []
    },
    {
      "cell_type": "code",
      "source": [
        "stats.ttest_1samp(a=df['SUS'], popmean=68)"
      ],
      "metadata": {
        "colab": {
          "base_uri": "https://localhost:8080/"
        },
        "id": "4S0-z3vfJ2Px",
        "outputId": "23db1863-3d93-47f0-87b0-15174800d98f"
      },
      "execution_count": 36,
      "outputs": [
        {
          "output_type": "execute_result",
          "data": {
            "text/plain": [
              "Ttest_1sampResult(statistic=1.1587212982048045, pvalue=0.25464379688528627)"
            ]
          },
          "metadata": {},
          "execution_count": 36
        }
      ]
    },
    {
      "cell_type": "code",
      "source": [
        "df.columns"
      ],
      "metadata": {
        "colab": {
          "base_uri": "https://localhost:8080/"
        },
        "id": "JkeEIuHALNht",
        "outputId": "77ac3222-37d1-4c4d-e0bc-32e392d14c76"
      },
      "execution_count": 41,
      "outputs": [
        {
          "output_type": "execute_result",
          "data": {
            "text/plain": [
              "Index(['Unnamed: 0', 'Q1', 'Q2', 'Q3', 'Q4', 'Q5', 'Q6', 'Q7', 'Q8', 'Q9',\n",
              "       'Q10', 'Q_new.1', 'Q_new.2', 'Q_new.3', 'Q_new.4', 'Q_new.5', 'Q_new.6',\n",
              "       'Q_new.7', 'Q_new.8', 'Q_new.9', 'Q_new.10', 'SUS', 'Unnamed: 22',\n",
              "       'Unnamed: 23', 'user'],\n",
              "      dtype='object')"
            ]
          },
          "metadata": {},
          "execution_count": 41
        }
      ]
    },
    {
      "cell_type": "code",
      "source": [
        "list_benchmark = [3.39, 2.44, 3.67, 1.85, 3.55, 2.20, 3.71, 2.25, 3.72, 2.09]"
      ],
      "metadata": {
        "id": "ZBwIWYUjbZrx"
      },
      "execution_count": 38,
      "outputs": []
    },
    {
      "cell_type": "code",
      "source": [
        "for each_question, benchmark in zip(['Q_new.1', 'Q_new.2', 'Q_new.3', 'Q_new.4', 'Q_new.5', 'Q_new.6',\n",
        "       'Q_new.7', 'Q_new.8', 'Q_new.9', 'Q_new.10'], list_benchmark):\n",
        "       print('average for ', each_question, ': ', df[each_question].mean())\n",
        "       print(stats.ttest_1samp(a=df[each_question], popmean=benchmark))"
      ],
      "metadata": {
        "colab": {
          "base_uri": "https://localhost:8080/"
        },
        "id": "cSZCBSafLRDX",
        "outputId": "aa43e418-d8a2-4ef1-dce0-f1e684084557"
      },
      "execution_count": 39,
      "outputs": [
        {
          "output_type": "stream",
          "name": "stdout",
          "text": [
            "average for  Q_new.1 :  2.942857142857143\n",
            "Ttest_1sampResult(statistic=-2.506005607049613, pvalue=0.017159870698289996)\n",
            "average for  Q_new.2 :  2.742857142857143\n",
            "Ttest_1sampResult(statistic=1.3637824712968538, pvalue=0.1815976110932561)\n",
            "average for  Q_new.3 :  2.6857142857142855\n",
            "Ttest_1sampResult(statistic=-5.268008675560166, pvalue=7.709427939042275e-06)\n",
            "average for  Q_new.4 :  3.4857142857142858\n",
            "Ttest_1sampResult(statistic=13.03355922833577, pvalue=8.835756693600737e-15)\n",
            "average for  Q_new.5 :  2.5142857142857142\n",
            "Ttest_1sampResult(statistic=-6.0615079899181925, pvalue=7.167168446638008e-07)\n",
            "average for  Q_new.6 :  2.4285714285714284\n",
            "Ttest_1sampResult(statistic=1.1810469062961853, pvalue=0.2457800678371591)\n",
            "average for  Q_new.7 :  3.2285714285714286\n",
            "Ttest_1sampResult(statistic=-3.5270247164593926, pvalue=0.0012261904598214037)\n",
            "average for  Q_new.8 :  2.8\n",
            "Ttest_1sampResult(statistic=2.8733790803598356, pvalue=0.006951544597900362)\n",
            "average for  Q_new.9 :  2.5714285714285716\n",
            "Ttest_1sampResult(statistic=-5.8059288504037765, pvalue=1.538786396416081e-06)\n",
            "average for  Q_new.10 :  3.257142857142857\n",
            "Ttest_1sampResult(statistic=5.655287805040112, pvalue=2.416061666746888e-06)\n"
          ]
        }
      ]
    }
  ]
}